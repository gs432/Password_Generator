{
 "cells": [
  {
   "cell_type": "code",
   "execution_count": 3,
   "metadata": {},
   "outputs": [
    {
     "name": "stdout",
     "output_type": "stream",
     "text": [
      "1v!U\"uM2\n"
     ]
    }
   ],
   "source": [
    "import random\n",
    "\n",
    "#Function to shuffle the characters\n",
    "def shuffle(string):\n",
    "    templist = list(string)\n",
    "    random.shuffle(templist)\n",
    "    return ''.join(templist)\n",
    "\n",
    "#Main program\n",
    "uppercase1 = chr(random.randint(65, 90))\n",
    "uppercase2 = chr(random.randint(65, 90))\n",
    "lowercase1 = chr(random.randint(97, 122))\n",
    "lowercase2 = chr(random.randint(97, 122))\n",
    "digit1 = chr(random.randint(48, 57))\n",
    "digit2 = chr(random.randint(48, 57))\n",
    "sign1 = chr(random.randint(33, 38))\n",
    "sign2 = chr(random.randint(33, 38))\n",
    "\n",
    "#Generate password\n",
    "password = uppercase1 + uppercase2 + lowercase1 + lowercase2 + digit1 + digit2 + sign1 + sign2\n",
    "password = shuffle(password)\n",
    "\n",
    "print(password)"
   ]
  }
 ],
 "metadata": {
  "kernelspec": {
   "display_name": "Python 3",
   "language": "python",
   "name": "python3"
  },
  "language_info": {
   "codemirror_mode": {
    "name": "ipython",
    "version": 3
   },
   "file_extension": ".py",
   "mimetype": "text/x-python",
   "name": "python",
   "nbconvert_exporter": "python",
   "pygments_lexer": "ipython3",
   "version": "3.8.3"
  }
 },
 "nbformat": 4,
 "nbformat_minor": 4
}
